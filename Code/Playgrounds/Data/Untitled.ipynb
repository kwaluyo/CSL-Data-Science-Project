{
 "cells": [
  {
   "cell_type": "code",
   "execution_count": 13,
   "id": "8d45439c",
   "metadata": {},
   "outputs": [
    {
     "name": "stdout",
     "output_type": "stream",
     "text": [
      "Collecting xgboost\n",
      "  Downloading xgboost-1.4.2-py3-none-win_amd64.whl (97.8 MB)\n",
      "Requirement already satisfied: scipy in c:\\users\\k_wal\\anaconda3\\envs\\cv\\lib\\site-packages (from xgboost) (1.5.2)\n",
      "Requirement already satisfied: numpy in c:\\users\\k_wal\\anaconda3\\envs\\cv\\lib\\site-packages (from xgboost) (1.19.5)\n",
      "Installing collected packages: xgboost\n",
      "Successfully installed xgboost-1.4.2\n"
     ]
    }
   ],
   "source": [
    "#!pip install xgboost"
   ]
  },
  {
   "cell_type": "code",
   "execution_count": 1,
   "id": "a01235bb",
   "metadata": {},
   "outputs": [],
   "source": [
    "import pandas as pd\n",
    "from sklearn.metrics import mean_squared_error\n",
    "import xgboost as xgb\n",
    "import numpy as np\n",
    "from sklearn import multioutput"
   ]
  },
  {
   "cell_type": "code",
   "execution_count": 2,
   "id": "054e53a8",
   "metadata": {},
   "outputs": [],
   "source": [
    "import time"
   ]
  },
  {
   "cell_type": "code",
   "execution_count": 3,
   "id": "b760ab2f",
   "metadata": {},
   "outputs": [],
   "source": [
    "y_test = pd.read_csv(\"Y_test.csv\", index_col=0)\n",
    "y_train = pd.read_csv(\"Y_train.csv\", index_col=0)\n",
    "\n",
    "X_test = pd.read_csv(\"X_test.csv\", index_col=0)\n",
    "X_train = pd.read_csv(\"X_train.csv\", index_col=0)"
   ]
  },
  {
   "cell_type": "code",
   "execution_count": 4,
   "id": "e9275dff",
   "metadata": {},
   "outputs": [],
   "source": [
    "LR = 0.1\n",
    "GAMMA = 1\n",
    "MAX_DEPTH = 8\n",
    "N_ESTIMATOR = 100"
   ]
  },
  {
   "cell_type": "code",
   "execution_count": 5,
   "id": "9a4dc6bc",
   "metadata": {},
   "outputs": [
    {
     "name": "stdout",
     "output_type": "stream",
     "text": [
      "81.18532919883728\n"
     ]
    }
   ],
   "source": [
    "start = time.time()\n",
    "model = xgb.XGBRegressor(objective ='reg:squarederror', learning_rate = LR,\n",
    "                max_depth = MAX_DEPTH, n_estimators = N_ESTIMATOR, gamma = GAMMA, n_jobs=-1)\n",
    "model = multioutput.MultiOutputRegressor(model)\n",
    "model.fit(X_train, y_train.iloc[:,0:1])\n",
    "preds = model.predict(X_test)\n",
    "end = time.time()\n",
    "print(end-start)"
   ]
  },
  {
   "cell_type": "code",
   "execution_count": 41,
   "id": "743ee939",
   "metadata": {},
   "outputs": [
    {
     "data": {
      "text/html": [
       "<div>\n",
       "<style scoped>\n",
       "    .dataframe tbody tr th:only-of-type {\n",
       "        vertical-align: middle;\n",
       "    }\n",
       "\n",
       "    .dataframe tbody tr th {\n",
       "        vertical-align: top;\n",
       "    }\n",
       "\n",
       "    .dataframe thead th {\n",
       "        text-align: right;\n",
       "    }\n",
       "</style>\n",
       "<table border=\"1\" class=\"dataframe\">\n",
       "  <thead>\n",
       "    <tr style=\"text-align: right;\">\n",
       "      <th></th>\n",
       "      <th>NOC2L</th>\n",
       "      <th>KLHL17</th>\n",
       "      <th>PLEKHN1</th>\n",
       "      <th>HES4</th>\n",
       "      <th>ISG15</th>\n",
       "    </tr>\n",
       "  </thead>\n",
       "  <tbody>\n",
       "    <tr>\n",
       "      <th>GTEX-11EMC</th>\n",
       "      <td>-0.102516</td>\n",
       "      <td>0.472890</td>\n",
       "      <td>0.230902</td>\n",
       "      <td>0.461654</td>\n",
       "      <td>-0.314176</td>\n",
       "    </tr>\n",
       "    <tr>\n",
       "      <th>GTEX-14E6C</th>\n",
       "      <td>1.028673</td>\n",
       "      <td>0.267529</td>\n",
       "      <td>0.775747</td>\n",
       "      <td>-0.028610</td>\n",
       "      <td>0.081963</td>\n",
       "    </tr>\n",
       "    <tr>\n",
       "      <th>GTEX-VUSG</th>\n",
       "      <td>0.662621</td>\n",
       "      <td>0.454915</td>\n",
       "      <td>0.515004</td>\n",
       "      <td>-0.400229</td>\n",
       "      <td>0.562040</td>\n",
       "    </tr>\n",
       "    <tr>\n",
       "      <th>GTEX-11ZTT</th>\n",
       "      <td>0.249292</td>\n",
       "      <td>-0.002954</td>\n",
       "      <td>-0.064119</td>\n",
       "      <td>-0.135058</td>\n",
       "      <td>-0.247980</td>\n",
       "    </tr>\n",
       "    <tr>\n",
       "      <th>GTEX-1I19N</th>\n",
       "      <td>-0.246183</td>\n",
       "      <td>0.605606</td>\n",
       "      <td>0.155587</td>\n",
       "      <td>0.340172</td>\n",
       "      <td>0.339603</td>\n",
       "    </tr>\n",
       "    <tr>\n",
       "      <th>...</th>\n",
       "      <td>...</td>\n",
       "      <td>...</td>\n",
       "      <td>...</td>\n",
       "      <td>...</td>\n",
       "      <td>...</td>\n",
       "    </tr>\n",
       "    <tr>\n",
       "      <th>GTEX-1KD4Q</th>\n",
       "      <td>-0.506157</td>\n",
       "      <td>0.192473</td>\n",
       "      <td>-0.334419</td>\n",
       "      <td>0.794230</td>\n",
       "      <td>0.180068</td>\n",
       "    </tr>\n",
       "    <tr>\n",
       "      <th>GTEX-Y5LM</th>\n",
       "      <td>0.838632</td>\n",
       "      <td>-0.124011</td>\n",
       "      <td>0.264500</td>\n",
       "      <td>-0.178788</td>\n",
       "      <td>0.265160</td>\n",
       "    </tr>\n",
       "    <tr>\n",
       "      <th>GTEX-12WSL</th>\n",
       "      <td>0.461105</td>\n",
       "      <td>-0.078371</td>\n",
       "      <td>0.182531</td>\n",
       "      <td>-0.205045</td>\n",
       "      <td>-0.291912</td>\n",
       "    </tr>\n",
       "    <tr>\n",
       "      <th>GTEX-1JJE9</th>\n",
       "      <td>-0.224257</td>\n",
       "      <td>0.450108</td>\n",
       "      <td>-0.387533</td>\n",
       "      <td>0.193546</td>\n",
       "      <td>0.613728</td>\n",
       "    </tr>\n",
       "    <tr>\n",
       "      <th>GTEX-T5JC</th>\n",
       "      <td>-0.110400</td>\n",
       "      <td>0.581683</td>\n",
       "      <td>-0.882155</td>\n",
       "      <td>0.192266</td>\n",
       "      <td>-0.278704</td>\n",
       "    </tr>\n",
       "  </tbody>\n",
       "</table>\n",
       "<p>93 rows × 5 columns</p>\n",
       "</div>"
      ],
      "text/plain": [
       "               NOC2L    KLHL17   PLEKHN1      HES4     ISG15\n",
       "GTEX-11EMC -0.102516  0.472890  0.230902  0.461654 -0.314176\n",
       "GTEX-14E6C  1.028673  0.267529  0.775747 -0.028610  0.081963\n",
       "GTEX-VUSG   0.662621  0.454915  0.515004 -0.400229  0.562040\n",
       "GTEX-11ZTT  0.249292 -0.002954 -0.064119 -0.135058 -0.247980\n",
       "GTEX-1I19N -0.246183  0.605606  0.155587  0.340172  0.339603\n",
       "...              ...       ...       ...       ...       ...\n",
       "GTEX-1KD4Q -0.506157  0.192473 -0.334419  0.794230  0.180068\n",
       "GTEX-Y5LM   0.838632 -0.124011  0.264500 -0.178788  0.265160\n",
       "GTEX-12WSL  0.461105 -0.078371  0.182531 -0.205045 -0.291912\n",
       "GTEX-1JJE9 -0.224257  0.450108 -0.387533  0.193546  0.613728\n",
       "GTEX-T5JC  -0.110400  0.581683 -0.882155  0.192266 -0.278704\n",
       "\n",
       "[93 rows x 5 columns]"
      ]
     },
     "execution_count": 41,
     "metadata": {},
     "output_type": "execute_result"
    }
   ],
   "source": [
    "preds_df = pd.DataFrame(preds)\n",
    "preds_df.columns = y_train.columns[0:5]\n",
    "preds_df.index = X_test.index\n",
    "preds_df"
   ]
  },
  {
   "cell_type": "code",
   "execution_count": 43,
   "id": "c38b9a0d",
   "metadata": {},
   "outputs": [
    {
     "name": "stdout",
     "output_type": "stream",
     "text": [
      "RMSE: 0.847920\n"
     ]
    }
   ],
   "source": [
    "rmse = np.sqrt(mean_squared_error(y_test.iloc[:,0:5], preds))\n",
    "print(\"RMSE: %f\" % (rmse))"
   ]
  },
  {
   "cell_type": "code",
   "execution_count": null,
   "id": "eaf27994",
   "metadata": {},
   "outputs": [],
   "source": []
  }
 ],
 "metadata": {
  "kernelspec": {
   "display_name": "Python 3",
   "language": "python",
   "name": "python3"
  },
  "language_info": {
   "codemirror_mode": {
    "name": "ipython",
    "version": 3
   },
   "file_extension": ".py",
   "mimetype": "text/x-python",
   "name": "python",
   "nbconvert_exporter": "python",
   "pygments_lexer": "ipython3",
   "version": "3.7.11"
  }
 },
 "nbformat": 4,
 "nbformat_minor": 5
}
